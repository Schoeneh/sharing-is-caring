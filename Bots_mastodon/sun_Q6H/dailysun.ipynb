{
 "cells": [
  {
   "cell_type": "code",
   "execution_count": 1,
   "metadata": {},
   "outputs": [],
   "source": [
    "from PIL import Image\n",
    "import requests\n",
    "from io import BytesIO"
   ]
  },
  {
   "cell_type": "code",
   "execution_count": 2,
   "metadata": {},
   "outputs": [],
   "source": [
    "url_171 = \"https://sdo.gsfc.nasa.gov/assets/img/latest/latest_1024_0171.jpg\"\n",
    "url_193 = \"https://sdo.gsfc.nasa.gov/assets/img/latest/latest_1024_0193.jpg\"\n",
    "url_304 = \"https://sdo.gsfc.nasa.gov/assets/img/latest/latest_1024_0304.jpg\""
   ]
  },
  {
   "cell_type": "code",
   "execution_count": 3,
   "metadata": {},
   "outputs": [],
   "source": [
    "img_171 = Image.open(BytesIO(requests.get(url_171).content))\n",
    "img_193 = Image.open(BytesIO(requests.get(url_193).content))\n",
    "img_304 = Image.open(BytesIO(requests.get(url_304).content))"
   ]
  },
  {
   "cell_type": "code",
   "execution_count": 4,
   "metadata": {},
   "outputs": [],
   "source": [
    "img_comp = Image.blend(img_171, img_193, 0.5)\n",
    "img_comp = Image.blend(img_comp, img_304, 0.33)\n",
    "\n",
    "img_comp.save(\"comp_171_193_304.jpg\")"
   ]
  }
 ],
 "metadata": {
  "kernelspec": {
   "display_name": "Python 3",
   "language": "python",
   "name": "python3"
  },
  "language_info": {
   "codemirror_mode": {
    "name": "ipython",
    "version": 3
   },
   "file_extension": ".py",
   "mimetype": "text/x-python",
   "name": "python",
   "nbconvert_exporter": "python",
   "pygments_lexer": "ipython3",
   "version": "3.11.7"
  }
 },
 "nbformat": 4,
 "nbformat_minor": 2
}
